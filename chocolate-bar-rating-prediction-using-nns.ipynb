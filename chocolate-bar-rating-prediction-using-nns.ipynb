{
 "cells": [
  {
   "cell_type": "markdown",
   "id": "dramatic-concern",
   "metadata": {
    "papermill": {
     "duration": 0.027037,
     "end_time": "2021-05-23T00:41:50.318143",
     "exception": false,
     "start_time": "2021-05-23T00:41:50.291106",
     "status": "completed"
    },
    "tags": []
   },
   "source": [
    "# Prédiction de Rating de barres de chocolat\n",
    "\n",
    "*Data Valorisation - Kaggle challenge*\n",
    "\n",
    "---\n",
    "#### Gille Cyprien"
   ]
  },
  {
   "cell_type": "code",
   "execution_count": 1,
   "id": "above-pattern",
   "metadata": {
    "_cell_guid": "b1076dfc-b9ad-4769-8c92-a6c4dae69d19",
    "_uuid": "8f2839f25d086af736a60e9eeb907d3b93b6e0e5",
    "execution": {
     "iopub.execute_input": "2021-05-23T00:41:50.374683Z",
     "iopub.status.busy": "2021-05-23T00:41:50.372065Z",
     "iopub.status.idle": "2021-05-23T00:41:52.917347Z",
     "shell.execute_reply": "2021-05-23T00:41:52.915922Z"
    },
    "papermill": {
     "duration": 2.574718,
     "end_time": "2021-05-23T00:41:52.917827",
     "exception": false,
     "start_time": "2021-05-23T00:41:50.343109",
     "status": "completed"
    },
    "tags": []
   },
   "outputs": [
    {
     "name": "stderr",
     "output_type": "stream",
     "text": [
      "── \u001b[1mAttaching packages\u001b[22m ─────────────────────────────────────── tidyverse 1.3.0 ──\n",
      "\n",
      "\u001b[32m✔\u001b[39m \u001b[34mggplot2\u001b[39m 3.3.3     \u001b[32m✔\u001b[39m \u001b[34mpurrr  \u001b[39m 0.3.4\n",
      "\u001b[32m✔\u001b[39m \u001b[34mtibble \u001b[39m 3.1.0     \u001b[32m✔\u001b[39m \u001b[34mdplyr  \u001b[39m 1.0.5\n",
      "\u001b[32m✔\u001b[39m \u001b[34mtidyr  \u001b[39m 1.1.3     \u001b[32m✔\u001b[39m \u001b[34mstringr\u001b[39m 1.4.0\n",
      "\u001b[32m✔\u001b[39m \u001b[34mreadr  \u001b[39m 1.4.0     \u001b[32m✔\u001b[39m \u001b[34mforcats\u001b[39m 0.5.0\n",
      "\n",
      "── \u001b[1mConflicts\u001b[22m ────────────────────────────────────────── tidyverse_conflicts() ──\n",
      "\u001b[31m✖\u001b[39m \u001b[34mdplyr\u001b[39m::\u001b[32mfilter()\u001b[39m masks \u001b[34mstats\u001b[39m::filter()\n",
      "\u001b[31m✖\u001b[39m \u001b[34mdplyr\u001b[39m::\u001b[32mlag()\u001b[39m    masks \u001b[34mstats\u001b[39m::lag()\n",
      "\n"
     ]
    }
   ],
   "source": [
    "# Imports nécessaires\n",
    "library(tfdatasets)\n",
    "library(keras)\n",
    "library(tidyverse) # pour make.names, type_convert..."
   ]
  },
  {
   "cell_type": "markdown",
   "id": "compressed-chance",
   "metadata": {
    "papermill": {
     "duration": 0.024924,
     "end_time": "2021-05-23T00:41:52.972764",
     "exception": false,
     "start_time": "2021-05-23T00:41:52.947840",
     "status": "completed"
    },
    "tags": []
   },
   "source": [
    "## 1. Preprocessing"
   ]
  },
  {
   "cell_type": "code",
   "execution_count": 2,
   "id": "incorrect-energy",
   "metadata": {
    "execution": {
     "iopub.execute_input": "2021-05-23T00:41:53.067280Z",
     "iopub.status.busy": "2021-05-23T00:41:53.029795Z",
     "iopub.status.idle": "2021-05-23T00:41:53.110793Z",
     "shell.execute_reply": "2021-05-23T00:41:53.108793Z"
    },
    "papermill": {
     "duration": 0.113179,
     "end_time": "2021-05-23T00:41:53.110960",
     "exception": false,
     "start_time": "2021-05-23T00:41:52.997781",
     "status": "completed"
    },
    "tags": []
   },
   "outputs": [],
   "source": [
    "# lecture du dataset\n",
    "data_file_path = \"../input/chocolate-bar-ratings/flavors_of_cacao.csv\"\n",
    "chocodata <- read.csv(data_file_path)"
   ]
  },
  {
   "cell_type": "markdown",
   "id": "tight-browse",
   "metadata": {
    "papermill": {
     "duration": 0.027279,
     "end_time": "2021-05-23T00:41:53.166492",
     "exception": false,
     "start_time": "2021-05-23T00:41:53.139213",
     "status": "completed"
    },
    "tags": []
   },
   "source": [
    "### Rappels\n",
    "\n",
    "Notre dataset contient des barres de chocolat notées, ainsi que quelques-unes de leur caractéristiques (provenance, marque...).\n",
    "\n",
    "Notre business goal est de fournir un modèle qui permet de **prédire le Rating** à partir des autres aspects d'une barre de chocolat, à des fins de simulation par les entreprises lors de la phase de R&D.\n",
    "\n",
    "Notre technical goal est d'implémenter cette prédiction (tâche de régression) par un **réseau de neurones**. Le choix de cette solution se justifie par le fait que le lien entre les features et le rating est très complexe, et que des outils de régression plus rudimentaires ne sauraient l'exploiter.\n",
    "\n",
    "On utilisera majoritairement la librairie **keras** (API de tensorflow pour R)."
   ]
  },
  {
   "cell_type": "markdown",
   "id": "possible-strain",
   "metadata": {
    "papermill": {
     "duration": 0.026489,
     "end_time": "2021-05-23T00:41:53.218559",
     "exception": false,
     "start_time": "2021-05-23T00:41:53.192070",
     "status": "completed"
    },
    "tags": []
   },
   "source": [
    "### 1.a Nettoyage"
   ]
  },
  {
   "cell_type": "markdown",
   "id": "gothic-letters",
   "metadata": {
    "execution": {
     "iopub.execute_input": "2021-05-20T12:39:34.558879Z",
     "iopub.status.busy": "2021-05-20T12:39:34.556852Z",
     "iopub.status.idle": "2021-05-20T12:39:34.605265Z"
    },
    "papermill": {
     "duration": 0.026621,
     "end_time": "2021-05-23T00:41:53.274791",
     "exception": false,
     "start_time": "2021-05-23T00:41:53.248170",
     "status": "completed"
    },
    "tags": []
   },
   "source": [
    "Certaines colonnes ont des noms avec des espaces. Par conséquent, pour pouvoir utiliser la syntaxe ```data$col_name```, on transforme tous les noms en chaînes de charactères valides.\n",
    "\n",
    "On transforme également la colonne Cocoa.Percent depuis des valeurs telles que ```75%``` (string) en ```75``` (entier).\n",
    "\n",
    "Enfin, on retire du dataset la colonne Bean.Type, car elle contient 47% de valeurs manquantes."
   ]
  },
  {
   "cell_type": "code",
   "execution_count": 3,
   "id": "scenic-hypothetical",
   "metadata": {
    "execution": {
     "iopub.execute_input": "2021-05-23T00:41:53.332032Z",
     "iopub.status.busy": "2021-05-23T00:41:53.329912Z",
     "iopub.status.idle": "2021-05-23T00:41:53.516989Z",
     "shell.execute_reply": "2021-05-23T00:41:53.515133Z"
    },
    "papermill": {
     "duration": 0.216599,
     "end_time": "2021-05-23T00:41:53.517147",
     "exception": false,
     "start_time": "2021-05-23T00:41:53.300548",
     "status": "completed"
    },
    "tags": []
   },
   "outputs": [
    {
     "name": "stderr",
     "output_type": "stream",
     "text": [
      "\n",
      "\u001b[36m──\u001b[39m \u001b[1m\u001b[1mColumn specification\u001b[1m\u001b[22m \u001b[36m────────────────────────────────────────────────────────\u001b[39m\n",
      "cols(\n",
      "  Cocoa.Percent = \u001b[32mcol_double()\u001b[39m\n",
      ")\n",
      "\n",
      "\n"
     ]
    }
   ],
   "source": [
    "# transforme les noms des colonnes en noms valides pour R\n",
    "names(chocodata) <- make.names(names(chocodata), unique=TRUE)\n",
    "\n",
    "# pourcentage -> nombres\n",
    "# on retire d'abord le charactère %\n",
    "chocodata$Cocoa.Percent <- sapply(chocodata$Cocoa.Percent, function(x) gsub(\"%\", \"\", x))\n",
    "# convertit autant que possibe en types numériques (\"75\" devient 75 par exemple)\n",
    "chocodata <- type_convert(chocodata)\n",
    "                                  \n",
    "# on retire Bean.Type (trop de missing values)\n",
    "chocodata <- subset(chocodata, select = -Bean.Type)\n",
    "\n",
    "# Dans certains environnements R le make.names échoue pour la col 1\n",
    "# à cause d'un line break donc pour être sûrs, on le fait à la main\n",
    "names(chocodata)[1] <- \"Company...Maker.if.known.\""
   ]
  },
  {
   "cell_type": "markdown",
   "id": "artistic-penny",
   "metadata": {
    "papermill": {
     "duration": 0.026506,
     "end_time": "2021-05-23T00:41:53.569484",
     "exception": false,
     "start_time": "2021-05-23T00:41:53.542978",
     "status": "completed"
    },
    "tags": []
   },
   "source": [
    "On effectue la même transformation en chaînes valides en R pour toutes les variables textuelles, afin de pouvoir les tokenizer plus loin."
   ]
  },
  {
   "cell_type": "code",
   "execution_count": 4,
   "id": "ahead-anderson",
   "metadata": {
    "execution": {
     "iopub.execute_input": "2021-05-23T00:41:53.626462Z",
     "iopub.status.busy": "2021-05-23T00:41:53.624865Z",
     "iopub.status.idle": "2021-05-23T00:41:53.696296Z",
     "shell.execute_reply": "2021-05-23T00:41:53.694527Z"
    },
    "papermill": {
     "duration": 0.100907,
     "end_time": "2021-05-23T00:41:53.696534",
     "exception": false,
     "start_time": "2021-05-23T00:41:53.595627",
     "status": "completed"
    },
    "tags": []
   },
   "outputs": [
    {
     "data": {
      "text/html": [
       "<table class=\"dataframe\">\n",
       "<caption>A data.frame: 10 × 8</caption>\n",
       "<thead>\n",
       "\t<tr><th></th><th scope=col>Company...Maker.if.known.</th><th scope=col>Specific.Bean.Origin.or.Bar.Name</th><th scope=col>REF</th><th scope=col>Review.Date</th><th scope=col>Cocoa.Percent</th><th scope=col>Company.Location</th><th scope=col>Rating</th><th scope=col>Broad.Bean.Origin</th></tr>\n",
       "\t<tr><th></th><th scope=col>&lt;chr&gt;</th><th scope=col>&lt;chr&gt;</th><th scope=col>&lt;int&gt;</th><th scope=col>&lt;int&gt;</th><th scope=col>&lt;dbl&gt;</th><th scope=col>&lt;chr&gt;</th><th scope=col>&lt;dbl&gt;</th><th scope=col>&lt;chr&gt;</th></tr>\n",
       "</thead>\n",
       "<tbody>\n",
       "\t<tr><th scope=row>1</th><td>A..Morin</td><td>Agua.Grande   </td><td>1876</td><td>2016</td><td>63</td><td>France</td><td>3.75</td><td>Sao.Tome </td></tr>\n",
       "\t<tr><th scope=row>2</th><td>A..Morin</td><td>Kpime         </td><td>1676</td><td>2015</td><td>70</td><td>France</td><td>2.75</td><td>Togo     </td></tr>\n",
       "\t<tr><th scope=row>3</th><td>A..Morin</td><td>Atsane        </td><td>1676</td><td>2015</td><td>70</td><td>France</td><td>3.00</td><td>Togo     </td></tr>\n",
       "\t<tr><th scope=row>4</th><td>A..Morin</td><td>Akata         </td><td>1680</td><td>2015</td><td>70</td><td>France</td><td>3.50</td><td>Togo     </td></tr>\n",
       "\t<tr><th scope=row>5</th><td>A..Morin</td><td>Quilla        </td><td>1704</td><td>2015</td><td>70</td><td>France</td><td>3.50</td><td>Peru     </td></tr>\n",
       "\t<tr><th scope=row>6</th><td>A..Morin</td><td>Carenero      </td><td>1315</td><td>2014</td><td>70</td><td>France</td><td>2.75</td><td>Venezuela</td></tr>\n",
       "\t<tr><th scope=row>7</th><td>A..Morin</td><td>Cuba          </td><td>1315</td><td>2014</td><td>70</td><td>France</td><td>3.50</td><td>Cuba     </td></tr>\n",
       "\t<tr><th scope=row>8</th><td>A..Morin</td><td>Sur.del.Lago  </td><td>1315</td><td>2014</td><td>70</td><td>France</td><td>3.50</td><td>Venezuela</td></tr>\n",
       "\t<tr><th scope=row>9</th><td>A..Morin</td><td>Puerto.Cabello</td><td>1319</td><td>2014</td><td>70</td><td>France</td><td>3.75</td><td>Venezuela</td></tr>\n",
       "\t<tr><th scope=row>10</th><td>A..Morin</td><td>Pablino       </td><td>1319</td><td>2014</td><td>70</td><td>France</td><td>4.00</td><td>Peru     </td></tr>\n",
       "</tbody>\n",
       "</table>\n"
      ],
      "text/latex": [
       "A data.frame: 10 × 8\n",
       "\\begin{tabular}{r|llllllll}\n",
       "  & Company...Maker.if.known. & Specific.Bean.Origin.or.Bar.Name & REF & Review.Date & Cocoa.Percent & Company.Location & Rating & Broad.Bean.Origin\\\\\n",
       "  & <chr> & <chr> & <int> & <int> & <dbl> & <chr> & <dbl> & <chr>\\\\\n",
       "\\hline\n",
       "\t1 & A..Morin & Agua.Grande    & 1876 & 2016 & 63 & France & 3.75 & Sao.Tome \\\\\n",
       "\t2 & A..Morin & Kpime          & 1676 & 2015 & 70 & France & 2.75 & Togo     \\\\\n",
       "\t3 & A..Morin & Atsane         & 1676 & 2015 & 70 & France & 3.00 & Togo     \\\\\n",
       "\t4 & A..Morin & Akata          & 1680 & 2015 & 70 & France & 3.50 & Togo     \\\\\n",
       "\t5 & A..Morin & Quilla         & 1704 & 2015 & 70 & France & 3.50 & Peru     \\\\\n",
       "\t6 & A..Morin & Carenero       & 1315 & 2014 & 70 & France & 2.75 & Venezuela\\\\\n",
       "\t7 & A..Morin & Cuba           & 1315 & 2014 & 70 & France & 3.50 & Cuba     \\\\\n",
       "\t8 & A..Morin & Sur.del.Lago   & 1315 & 2014 & 70 & France & 3.50 & Venezuela\\\\\n",
       "\t9 & A..Morin & Puerto.Cabello & 1319 & 2014 & 70 & France & 3.75 & Venezuela\\\\\n",
       "\t10 & A..Morin & Pablino        & 1319 & 2014 & 70 & France & 4.00 & Peru     \\\\\n",
       "\\end{tabular}\n"
      ],
      "text/markdown": [
       "\n",
       "A data.frame: 10 × 8\n",
       "\n",
       "| <!--/--> | Company...Maker.if.known. &lt;chr&gt; | Specific.Bean.Origin.or.Bar.Name &lt;chr&gt; | REF &lt;int&gt; | Review.Date &lt;int&gt; | Cocoa.Percent &lt;dbl&gt; | Company.Location &lt;chr&gt; | Rating &lt;dbl&gt; | Broad.Bean.Origin &lt;chr&gt; |\n",
       "|---|---|---|---|---|---|---|---|---|\n",
       "| 1 | A..Morin | Agua.Grande    | 1876 | 2016 | 63 | France | 3.75 | Sao.Tome  |\n",
       "| 2 | A..Morin | Kpime          | 1676 | 2015 | 70 | France | 2.75 | Togo      |\n",
       "| 3 | A..Morin | Atsane         | 1676 | 2015 | 70 | France | 3.00 | Togo      |\n",
       "| 4 | A..Morin | Akata          | 1680 | 2015 | 70 | France | 3.50 | Togo      |\n",
       "| 5 | A..Morin | Quilla         | 1704 | 2015 | 70 | France | 3.50 | Peru      |\n",
       "| 6 | A..Morin | Carenero       | 1315 | 2014 | 70 | France | 2.75 | Venezuela |\n",
       "| 7 | A..Morin | Cuba           | 1315 | 2014 | 70 | France | 3.50 | Cuba      |\n",
       "| 8 | A..Morin | Sur.del.Lago   | 1315 | 2014 | 70 | France | 3.50 | Venezuela |\n",
       "| 9 | A..Morin | Puerto.Cabello | 1319 | 2014 | 70 | France | 3.75 | Venezuela |\n",
       "| 10 | A..Morin | Pablino        | 1319 | 2014 | 70 | France | 4.00 | Peru      |\n",
       "\n"
      ],
      "text/plain": [
       "   Company...Maker.if.known. Specific.Bean.Origin.or.Bar.Name REF  Review.Date\n",
       "1  A..Morin                  Agua.Grande                      1876 2016       \n",
       "2  A..Morin                  Kpime                            1676 2015       \n",
       "3  A..Morin                  Atsane                           1676 2015       \n",
       "4  A..Morin                  Akata                            1680 2015       \n",
       "5  A..Morin                  Quilla                           1704 2015       \n",
       "6  A..Morin                  Carenero                         1315 2014       \n",
       "7  A..Morin                  Cuba                             1315 2014       \n",
       "8  A..Morin                  Sur.del.Lago                     1315 2014       \n",
       "9  A..Morin                  Puerto.Cabello                   1319 2014       \n",
       "10 A..Morin                  Pablino                          1319 2014       \n",
       "   Cocoa.Percent Company.Location Rating Broad.Bean.Origin\n",
       "1  63            France           3.75   Sao.Tome         \n",
       "2  70            France           2.75   Togo             \n",
       "3  70            France           3.00   Togo             \n",
       "4  70            France           3.50   Togo             \n",
       "5  70            France           3.50   Peru             \n",
       "6  70            France           2.75   Venezuela        \n",
       "7  70            France           3.50   Cuba             \n",
       "8  70            France           3.50   Venezuela        \n",
       "9  70            France           3.75   Venezuela        \n",
       "10 70            France           4.00   Peru             "
      ]
     },
     "metadata": {},
     "output_type": "display_data"
    }
   ],
   "source": [
    "# on se débarasse des espaces, des (, des )\n",
    "chocodata$Company...Maker.if.known. <- make.names(chocodata$Company...Maker.if.known.)\n",
    "chocodata$Specific.Bean.Origin.or.Bar.Name <- make.names(chocodata$Specific.Bean.Origin.or.Bar.Name)\n",
    "chocodata$Company.Location <- make.names(chocodata$Company.Location)\n",
    "chocodata$Broad.Bean.Origin <- make.names(chocodata$Broad.Bean.Origin)\n",
    "head(chocodata, 10) # pour voir l'effet des changements"
   ]
  },
  {
   "cell_type": "markdown",
   "id": "interstate-moisture",
   "metadata": {
    "papermill": {
     "duration": 0.025802,
     "end_time": "2021-05-23T00:41:53.749168",
     "exception": false,
     "start_time": "2021-05-23T00:41:53.723366",
     "status": "completed"
    },
    "tags": []
   },
   "source": [
    "On mélange les lignes dès maintenant, pour éviter que l'ordre joue une importantce."
   ]
  },
  {
   "cell_type": "code",
   "execution_count": 5,
   "id": "secondary-denver",
   "metadata": {
    "execution": {
     "iopub.execute_input": "2021-05-23T00:41:53.809955Z",
     "iopub.status.busy": "2021-05-23T00:41:53.808026Z",
     "iopub.status.idle": "2021-05-23T00:41:53.827342Z",
     "shell.execute_reply": "2021-05-23T00:41:53.826166Z"
    },
    "papermill": {
     "duration": 0.05208,
     "end_time": "2021-05-23T00:41:53.827507",
     "exception": false,
     "start_time": "2021-05-23T00:41:53.775427",
     "status": "completed"
    },
    "tags": []
   },
   "outputs": [],
   "source": [
    "# on mélange les rows\n",
    "set.seed(612)\n",
    "shuffled_rows_indices <- sample(nrow(chocodata))\n",
    "chocodata <- chocodata[shuffled_rows_indices, ]"
   ]
  },
  {
   "cell_type": "markdown",
   "id": "horizontal-psychology",
   "metadata": {
    "papermill": {
     "duration": 0.025831,
     "end_time": "2021-05-23T00:41:53.879990",
     "exception": false,
     "start_time": "2021-05-23T00:41:53.854159",
     "status": "completed"
    },
    "tags": []
   },
   "source": [
    "### 1.b Tokenization\n",
    "\n",
    "Pour pouvoir traiter les noms en tant qu'input du réseau de neurones, il nous faut les encoder dans des entiers. Ce processus est en général appelé l'Embedding, mais on trouve également le terme tokenization. Pour rester cohérent avec le noms des fonctions keras, on utilisera \"tokenization\". Il existe de nombreuses façons de faire, mais nous effectuerons une tokenization naïve: associer à chaque mot un entier de façon unique."
   ]
  },
  {
   "cell_type": "code",
   "execution_count": 6,
   "id": "offshore-telephone",
   "metadata": {
    "execution": {
     "iopub.execute_input": "2021-05-23T00:41:53.938971Z",
     "iopub.status.busy": "2021-05-23T00:41:53.937416Z",
     "iopub.status.idle": "2021-05-23T00:42:00.551093Z",
     "shell.execute_reply": "2021-05-23T00:42:00.549772Z"
    },
    "papermill": {
     "duration": 6.644528,
     "end_time": "2021-05-23T00:42:00.551249",
     "exception": false,
     "start_time": "2021-05-23T00:41:53.906721",
     "status": "completed"
    },
    "tags": []
   },
   "outputs": [],
   "source": [
    "# on crée les tokenizers qui vont transformer les noms en entiers\n",
    "# on ne leur fait pas convertir le texte en minuscules,\n",
    "# ni ignorer les caractères spéciaux (que des points dans notre cas)\n",
    "tok_Company <- text_tokenizer(lower=FALSE, filter=\"\")\n",
    "tok_BeanOrig <- text_tokenizer(lower=FALSE, filter=\"\")\n",
    "tok_CompanyLoc <- text_tokenizer(lower=FALSE, filter=\"\")\n",
    "tok_BroadBean <- text_tokenizer(lower=FALSE, filter=\"\")"
   ]
  },
  {
   "cell_type": "code",
   "execution_count": 7,
   "id": "minor-acrobat",
   "metadata": {
    "execution": {
     "iopub.execute_input": "2021-05-23T00:42:00.618888Z",
     "iopub.status.busy": "2021-05-23T00:42:00.616708Z",
     "iopub.status.idle": "2021-05-23T00:42:00.669643Z",
     "shell.execute_reply": "2021-05-23T00:42:00.668145Z"
    },
    "papermill": {
     "duration": 0.087028,
     "end_time": "2021-05-23T00:42:00.669788",
     "exception": false,
     "start_time": "2021-05-23T00:42:00.582760",
     "status": "completed"
    },
    "tags": []
   },
   "outputs": [],
   "source": [
    "# on fait apprendre aux tokenizers le vocabulaire nécessaire pour chaque colonne\n",
    "fit_text_tokenizer(tok_Company, chocodata$Company...Maker.if.known.)\n",
    "fit_text_tokenizer(tok_BeanOrig, chocodata$Specific.Bean.Origin.or.Bar.Name)\n",
    "fit_text_tokenizer(tok_CompanyLoc, chocodata$Company.Location)\n",
    "fit_text_tokenizer(tok_BroadBean, chocodata$Broad.Bean.Origin)"
   ]
  },
  {
   "cell_type": "code",
   "execution_count": 8,
   "id": "micro-workplace",
   "metadata": {
    "execution": {
     "iopub.execute_input": "2021-05-23T00:42:00.735977Z",
     "iopub.status.busy": "2021-05-23T00:42:00.734407Z",
     "iopub.status.idle": "2021-05-23T00:42:00.788702Z",
     "shell.execute_reply": "2021-05-23T00:42:00.787100Z"
    },
    "papermill": {
     "duration": 0.089156,
     "end_time": "2021-05-23T00:42:00.788870",
     "exception": false,
     "start_time": "2021-05-23T00:42:00.699714",
     "status": "completed"
    },
    "tags": []
   },
   "outputs": [],
   "source": [
    "# transforme les strings en listes d'entiers, mais chaque liste est de taille 1\n",
    "# parce qu'on a pris le soin de transformer \"hello world\" en \"hello.world\" ce qui fait 1 mot\n",
    "chocodata$Company...Maker.if.known. <- texts_to_sequences(tok_Company, chocodata$Company...Maker.if.known.)\n",
    "chocodata$Specific.Bean.Origin.or.Bar.Name <- texts_to_sequences(tok_BeanOrig, chocodata$Specific.Bean.Origin.or.Bar.Name)\n",
    "chocodata$Company.Location <- texts_to_sequences(tok_CompanyLoc, chocodata$Company.Location)\n",
    "chocodata$Broad.Bean.Origin <- texts_to_sequences(tok_BroadBean, chocodata$Broad.Bean.Origin)"
   ]
  },
  {
   "cell_type": "code",
   "execution_count": 9,
   "id": "differential-vitamin",
   "metadata": {
    "execution": {
     "iopub.execute_input": "2021-05-23T00:42:00.854263Z",
     "iopub.status.busy": "2021-05-23T00:42:00.852821Z",
     "iopub.status.idle": "2021-05-23T00:42:00.886120Z",
     "shell.execute_reply": "2021-05-23T00:42:00.884416Z"
    },
    "papermill": {
     "duration": 0.067628,
     "end_time": "2021-05-23T00:42:00.886259",
     "exception": false,
     "start_time": "2021-05-23T00:42:00.818631",
     "status": "completed"
    },
    "tags": []
   },
   "outputs": [
    {
     "data": {
      "text/html": [
       "<table class=\"dataframe\">\n",
       "<caption>A data.frame: 6 × 8</caption>\n",
       "<thead>\n",
       "\t<tr><th></th><th scope=col>Company...Maker.if.known.</th><th scope=col>Specific.Bean.Origin.or.Bar.Name</th><th scope=col>REF</th><th scope=col>Review.Date</th><th scope=col>Cocoa.Percent</th><th scope=col>Company.Location</th><th scope=col>Rating</th><th scope=col>Broad.Bean.Origin</th></tr>\n",
       "\t<tr><th></th><th scope=col>&lt;int&gt;</th><th scope=col>&lt;int&gt;</th><th scope=col>&lt;int&gt;</th><th scope=col>&lt;int&gt;</th><th scope=col>&lt;dbl&gt;</th><th scope=col>&lt;int&gt;</th><th scope=col>&lt;dbl&gt;</th><th scope=col>&lt;int&gt;</th></tr>\n",
       "</thead>\n",
       "<tbody>\n",
       "\t<tr><th scope=row>1760</th><td>215</td><td>183</td><td>1948</td><td>2017</td><td>70</td><td> 1</td><td>2.75</td><td> 4</td></tr>\n",
       "\t<tr><th scope=row>212</th><td>177</td><td>184</td><td> 256</td><td>2008</td><td>70</td><td> 1</td><td>3.00</td><td> 7</td></tr>\n",
       "\t<tr><th scope=row>1524</th><td>  1</td><td> 69</td><td>1030</td><td>2013</td><td>70</td><td> 3</td><td>3.25</td><td>24</td></tr>\n",
       "\t<tr><th scope=row>1422</th><td> 98</td><td>185</td><td> 404</td><td>2009</td><td>75</td><td>13</td><td>2.75</td><td>12</td></tr>\n",
       "\t<tr><th scope=row>397</th><td> 61</td><td>  4</td><td>1764</td><td>2016</td><td>60</td><td> 1</td><td>3.00</td><td> 5</td></tr>\n",
       "\t<tr><th scope=row>1748</th><td>178</td><td>186</td><td>1912</td><td>2016</td><td>74</td><td> 1</td><td>3.00</td><td> 1</td></tr>\n",
       "</tbody>\n",
       "</table>\n"
      ],
      "text/latex": [
       "A data.frame: 6 × 8\n",
       "\\begin{tabular}{r|llllllll}\n",
       "  & Company...Maker.if.known. & Specific.Bean.Origin.or.Bar.Name & REF & Review.Date & Cocoa.Percent & Company.Location & Rating & Broad.Bean.Origin\\\\\n",
       "  & <int> & <int> & <int> & <int> & <dbl> & <int> & <dbl> & <int>\\\\\n",
       "\\hline\n",
       "\t1760 & 215 & 183 & 1948 & 2017 & 70 &  1 & 2.75 &  4\\\\\n",
       "\t212 & 177 & 184 &  256 & 2008 & 70 &  1 & 3.00 &  7\\\\\n",
       "\t1524 &   1 &  69 & 1030 & 2013 & 70 &  3 & 3.25 & 24\\\\\n",
       "\t1422 &  98 & 185 &  404 & 2009 & 75 & 13 & 2.75 & 12\\\\\n",
       "\t397 &  61 &   4 & 1764 & 2016 & 60 &  1 & 3.00 &  5\\\\\n",
       "\t1748 & 178 & 186 & 1912 & 2016 & 74 &  1 & 3.00 &  1\\\\\n",
       "\\end{tabular}\n"
      ],
      "text/markdown": [
       "\n",
       "A data.frame: 6 × 8\n",
       "\n",
       "| <!--/--> | Company...Maker.if.known. &lt;int&gt; | Specific.Bean.Origin.or.Bar.Name &lt;int&gt; | REF &lt;int&gt; | Review.Date &lt;int&gt; | Cocoa.Percent &lt;dbl&gt; | Company.Location &lt;int&gt; | Rating &lt;dbl&gt; | Broad.Bean.Origin &lt;int&gt; |\n",
       "|---|---|---|---|---|---|---|---|---|\n",
       "| 1760 | 215 | 183 | 1948 | 2017 | 70 |  1 | 2.75 |  4 |\n",
       "| 212 | 177 | 184 |  256 | 2008 | 70 |  1 | 3.00 |  7 |\n",
       "| 1524 |   1 |  69 | 1030 | 2013 | 70 |  3 | 3.25 | 24 |\n",
       "| 1422 |  98 | 185 |  404 | 2009 | 75 | 13 | 2.75 | 12 |\n",
       "| 397 |  61 |   4 | 1764 | 2016 | 60 |  1 | 3.00 |  5 |\n",
       "| 1748 | 178 | 186 | 1912 | 2016 | 74 |  1 | 3.00 |  1 |\n",
       "\n"
      ],
      "text/plain": [
       "     Company...Maker.if.known. Specific.Bean.Origin.or.Bar.Name REF \n",
       "1760 215                       183                              1948\n",
       "212  177                       184                               256\n",
       "1524   1                        69                              1030\n",
       "1422  98                       185                               404\n",
       "397   61                         4                              1764\n",
       "1748 178                       186                              1912\n",
       "     Review.Date Cocoa.Percent Company.Location Rating Broad.Bean.Origin\n",
       "1760 2017        70             1               2.75    4               \n",
       "212  2008        70             1               3.00    7               \n",
       "1524 2013        70             3               3.25   24               \n",
       "1422 2009        75            13               2.75   12               \n",
       "397  2016        60             1               3.00    5               \n",
       "1748 2016        74             1               3.00    1               "
      ]
     },
     "metadata": {},
     "output_type": "display_data"
    }
   ],
   "source": [
    "# du coup on transforme ('unlist') les listes de taille 1 en entiers ([1241] devient 1241)\n",
    "chocodata$Company...Maker.if.known. <- unlist(chocodata$Company...Maker.if.known.)\n",
    "chocodata$Specific.Bean.Origin.or.Bar.Name <- unlist(chocodata$Specific.Bean.Origin.or.Bar.Name)\n",
    "chocodata$Company.Location <- unlist(chocodata$Company.Location)\n",
    "chocodata$Broad.Bean.Origin <- unlist(chocodata$Broad.Bean.Origin)\n",
    "head(chocodata) # voyons à quoi ressemblent les features tokenisées"
   ]
  },
  {
   "cell_type": "markdown",
   "id": "systematic-league",
   "metadata": {
    "papermill": {
     "duration": 0.026944,
     "end_time": "2021-05-23T00:42:00.940946",
     "exception": false,
     "start_time": "2021-05-23T00:42:00.914002",
     "status": "completed"
    },
    "tags": []
   },
   "source": [
    "### 1.c Normalisation\n",
    "\n",
    "Certaines valeurs ont des ordres de grandeur dans la centaine (ex: pourcentage), d'autres dans les milliers (ex: année). Pour éviter que les secondes écrasent les premières dans le réseau de neurones, on transforme toutes les features pour qu'elles aient **une moyenne de 0 et une variance de 1**.\n",
    "\n",
    "On garde en réserve de quoi dé-scale le rating pour revenir entre 1 et 5 post-prédiction."
   ]
  },
  {
   "cell_type": "code",
   "execution_count": 10,
   "id": "nasty-anaheim",
   "metadata": {
    "execution": {
     "iopub.execute_input": "2021-05-23T00:42:01.003196Z",
     "iopub.status.busy": "2021-05-23T00:42:01.000975Z",
     "iopub.status.idle": "2021-05-23T00:42:01.029676Z",
     "shell.execute_reply": "2021-05-23T00:42:01.028059Z"
    },
    "papermill": {
     "duration": 0.06189,
     "end_time": "2021-05-23T00:42:01.029827",
     "exception": false,
     "start_time": "2021-05-23T00:42:00.967937",
     "status": "completed"
    },
    "tags": []
   },
   "outputs": [],
   "source": [
    "# Pour dé-scale le rating plus tard\n",
    "rating_mean = mean(chocodata$Rating)\n",
    "rating_sd = sd(chocodata$Rating)\n",
    "\n",
    "\n",
    "# Centrer normer\n",
    "for (feat in names(chocodata)) {\n",
    "  chocodata[[feat]] <- c(scale(chocodata[[feat]]))\n",
    "}"
   ]
  },
  {
   "cell_type": "markdown",
   "id": "dutch-olive",
   "metadata": {
    "papermill": {
     "duration": 0.026426,
     "end_time": "2021-05-23T00:42:01.083038",
     "exception": false,
     "start_time": "2021-05-23T00:42:01.056612",
     "status": "completed"
    },
    "tags": []
   },
   "source": [
    "## 2. Réseau de Neurones"
   ]
  },
  {
   "cell_type": "code",
   "execution_count": 11,
   "id": "adverse-thanks",
   "metadata": {
    "execution": {
     "iopub.execute_input": "2021-05-23T00:42:01.143323Z",
     "iopub.status.busy": "2021-05-23T00:42:01.141179Z",
     "iopub.status.idle": "2021-05-23T00:42:01.158218Z",
     "shell.execute_reply": "2021-05-23T00:42:01.156536Z"
    },
    "papermill": {
     "duration": 0.048495,
     "end_time": "2021-05-23T00:42:01.158413",
     "exception": false,
     "start_time": "2021-05-23T00:42:01.109918",
     "status": "completed"
    },
    "tags": []
   },
   "outputs": [],
   "source": [
    "# features et target\n",
    "# la feature REF ne porte pas d'information, on ne la garde donc pas\n",
    "X = chocodata[ , c(\"Company...Maker.if.known.\", \n",
    "                   \"Specific.Bean.Origin.or.Bar.Name\", \n",
    "                   \"Review.Date\", \n",
    "                   \"Cocoa.Percent\", \n",
    "                   \"Company.Location\", \n",
    "                   \"Broad.Bean.Origin\")]\n",
    "Y = chocodata[ , c(\"Rating\")]"
   ]
  },
  {
   "cell_type": "markdown",
   "id": "welcome-boxing",
   "metadata": {
    "papermill": {
     "duration": 0.026802,
     "end_time": "2021-05-23T00:42:01.213966",
     "exception": false,
     "start_time": "2021-05-23T00:42:01.187164",
     "status": "completed"
    },
    "tags": []
   },
   "source": [
    "Afin de pouvoir évaluer notre modèle sur des données qu'il n'aura pas vu pendant le training, on sépare notre dataset en training set et testing set (ou validation set - on a suffisament peu de données pour ne pas avoir à faire la différence)"
   ]
  },
  {
   "cell_type": "code",
   "execution_count": 12,
   "id": "upper-bahrain",
   "metadata": {
    "execution": {
     "iopub.execute_input": "2021-05-23T00:42:01.273407Z",
     "iopub.status.busy": "2021-05-23T00:42:01.272045Z",
     "iopub.status.idle": "2021-05-23T00:42:01.295891Z",
     "shell.execute_reply": "2021-05-23T00:42:01.294601Z"
    },
    "papermill": {
     "duration": 0.055265,
     "end_time": "2021-05-23T00:42:01.296042",
     "exception": false,
     "start_time": "2021-05-23T00:42:01.240777",
     "status": "completed"
    },
    "tags": []
   },
   "outputs": [],
   "source": [
    "# train/test sets\n",
    "train_proportion = 0.8\n",
    "splitter <- sample(c(rep(0, train_proportion * nrow(chocodata)), rep(1, (1 - train_proportion) * nrow(chocodata))))\n",
    "x_train <- X[splitter == 0, ]   \n",
    "x_test <- X[splitter == 1, ]\n",
    "y_train <- Y[splitter ==0]\n",
    "y_test <- Y[splitter ==1]"
   ]
  },
  {
   "cell_type": "code",
   "execution_count": 13,
   "id": "composed-thinking",
   "metadata": {
    "execution": {
     "iopub.execute_input": "2021-05-23T00:42:01.355923Z",
     "iopub.status.busy": "2021-05-23T00:42:01.354397Z",
     "iopub.status.idle": "2021-05-23T00:42:01.435816Z",
     "shell.execute_reply": "2021-05-23T00:42:01.434118Z"
    },
    "papermill": {
     "duration": 0.111872,
     "end_time": "2021-05-23T00:42:01.435964",
     "exception": false,
     "start_time": "2021-05-23T00:42:01.324092",
     "status": "completed"
    },
    "tags": []
   },
   "outputs": [],
   "source": [
    "# conversion dataframe -> tf$Tensor\n",
    "x_train <- tf$convert_to_tensor(x_train)\n",
    "y_train <- tf$convert_to_tensor(y_train)\n",
    "x_test <- tf$convert_to_tensor(x_test)\n",
    "y_test <- tf$convert_to_tensor(y_test)"
   ]
  },
  {
   "cell_type": "markdown",
   "id": "flexible-anaheim",
   "metadata": {
    "papermill": {
     "duration": 0.027918,
     "end_time": "2021-05-23T00:42:01.493060",
     "exception": false,
     "start_time": "2021-05-23T00:42:01.465142",
     "status": "completed"
    },
    "tags": []
   },
   "source": [
    "### 2.a Training\n",
    "\n",
    "Notre tâche est une régression: on veut prédire un réél, le rating. Notre NN aura donc un seul neurone de sortie, prédisant ce chiffre. Quant au reste de l'architecture du réseau, on la choisit empiriquement en essayant différentes combinaisons, en trouvant l'équilibre entre un réseau trop peu large/profond pour remplir notre tâche complexe, et un réseau trop large qui transporterait les données dans des espaces de trop grande dimension."
   ]
  },
  {
   "cell_type": "code",
   "execution_count": 14,
   "id": "level-universe",
   "metadata": {
    "execution": {
     "iopub.execute_input": "2021-05-23T00:42:01.556209Z",
     "iopub.status.busy": "2021-05-23T00:42:01.554234Z",
     "iopub.status.idle": "2021-05-23T00:42:01.682062Z",
     "shell.execute_reply": "2021-05-23T00:42:01.680418Z"
    },
    "papermill": {
     "duration": 0.160389,
     "end_time": "2021-05-23T00:42:01.682217",
     "exception": false,
     "start_time": "2021-05-23T00:42:01.521828",
     "status": "completed"
    },
    "tags": []
   },
   "outputs": [],
   "source": [
    "# on définit l'architecture du modèle\n",
    "model <- keras_model_sequential()\n",
    "model %>%\n",
    "  layer_dense(units = 6, activation=\"relu\", input_shape = c(NULL,6)) %>%\n",
    "  layer_dense(units = 10, activation = 'relu') %>%\n",
    "  layer_dense(units = 20, activation = 'relu') %>%\n",
    "  layer_dense(units = 5, activation = 'relu') %>%\n",
    "  layer_dense(units = 1)"
   ]
  },
  {
   "cell_type": "markdown",
   "id": "tired-investing",
   "metadata": {
    "papermill": {
     "duration": 0.026881,
     "end_time": "2021-05-23T00:42:01.735745",
     "exception": false,
     "start_time": "2021-05-23T00:42:01.708864",
     "status": "completed"
    },
    "tags": []
   },
   "source": [
    "L'optimiseur **RMSprop** est un optimiseur classique pour les cas de régression. Notre fonction de perte sera la **mean squared error**, également classique pour effectuer une régression. Ce sont également les choix menant aux meilleures performances parmi les optimizers et loss functions proposés par keras."
   ]
  },
  {
   "cell_type": "code",
   "execution_count": 15,
   "id": "constitutional-fortune",
   "metadata": {
    "execution": {
     "iopub.execute_input": "2021-05-23T00:42:01.795284Z",
     "iopub.status.busy": "2021-05-23T00:42:01.793337Z",
     "iopub.status.idle": "2021-05-23T00:42:01.820206Z",
     "shell.execute_reply": "2021-05-23T00:42:01.818667Z"
    },
    "papermill": {
     "duration": 0.058103,
     "end_time": "2021-05-23T00:42:01.820391",
     "exception": false,
     "start_time": "2021-05-23T00:42:01.762288",
     "status": "completed"
    },
    "tags": []
   },
   "outputs": [],
   "source": [
    "# on définit les paramètres d'entrainement du modèle\n",
    "model %>% compile(\n",
    "  optimizer = \"RMSprop\", \n",
    "  loss = \"mse\"\n",
    ")"
   ]
  },
  {
   "cell_type": "code",
   "execution_count": 16,
   "id": "applicable-composition",
   "metadata": {
    "execution": {
     "iopub.execute_input": "2021-05-23T00:42:01.879861Z",
     "iopub.status.busy": "2021-05-23T00:42:01.877850Z",
     "iopub.status.idle": "2021-05-23T00:42:11.582900Z",
     "shell.execute_reply": "2021-05-23T00:42:11.581604Z"
    },
    "papermill": {
     "duration": 9.736026,
     "end_time": "2021-05-23T00:42:11.583048",
     "exception": false,
     "start_time": "2021-05-23T00:42:01.847022",
     "status": "completed"
    },
    "tags": []
   },
   "outputs": [],
   "source": [
    "# on arrête l'entraînement lorsque val_loss n'a plus été améliorée depuis au moins [patience] epochs\n",
    "\n",
    " early_stop = callback_early_stopping(patience=60, \n",
    "                                      monitor = \"val_loss\", \n",
    "                                      mode = \"min\", \n",
    "                                      verbose = 1,\n",
    "                                      restore_best_weights = TRUE)\n",
    "\n",
    "# training\n",
    "history <- fit(model, \n",
    "               x_train, \n",
    "               y_train, \n",
    "               epochs = 300, \n",
    "               verbose = 2, \n",
    "               validation_data = c(x_test, y_test), \n",
    "               callbacks = early_stop\n",
    ")"
   ]
  },
  {
   "cell_type": "code",
   "execution_count": 17,
   "id": "disturbed-restoration",
   "metadata": {
    "execution": {
     "iopub.execute_input": "2021-05-23T00:42:11.644177Z",
     "iopub.status.busy": "2021-05-23T00:42:11.642776Z",
     "iopub.status.idle": "2021-05-23T00:42:11.663919Z",
     "shell.execute_reply": "2021-05-23T00:42:11.662789Z"
    },
    "papermill": {
     "duration": 0.05339,
     "end_time": "2021-05-23T00:42:11.664112",
     "exception": false,
     "start_time": "2021-05-23T00:42:11.610722",
     "status": "completed"
    },
    "tags": []
   },
   "outputs": [
    {
     "name": "stdout",
     "output_type": "stream",
     "text": [
      "Loss à la fin du training :  0.7424 \n",
      "Validation Loss à la fin du training :  0.9352"
     ]
    }
   ],
   "source": [
    "losses <- history$metrics$loss\n",
    "val_losses <- history$metrics$val_loss\n",
    "n_epochs = length(losses)\n",
    "cat(\"Loss à la fin du training : \", round(losses[n_epochs], 4), \"\\n\")\n",
    "cat(\"Validation Loss à la fin du training : \", round(val_losses[n_epochs], 4))"
   ]
  },
  {
   "cell_type": "markdown",
   "id": "anonymous-venue",
   "metadata": {
    "papermill": {
     "duration": 0.028944,
     "end_time": "2021-05-23T00:42:11.722037",
     "exception": false,
     "start_time": "2021-05-23T00:42:11.693093",
     "status": "completed"
    },
    "tags": []
   },
   "source": [
    "### 2.a Phase de test"
   ]
  },
  {
   "cell_type": "code",
   "execution_count": 18,
   "id": "refined-produce",
   "metadata": {
    "execution": {
     "iopub.execute_input": "2021-05-23T00:42:11.781808Z",
     "iopub.status.busy": "2021-05-23T00:42:11.780027Z",
     "iopub.status.idle": "2021-05-23T00:42:11.796595Z",
     "shell.execute_reply": "2021-05-23T00:42:11.795527Z"
    },
    "papermill": {
     "duration": 0.047369,
     "end_time": "2021-05-23T00:42:11.796736",
     "exception": false,
     "start_time": "2021-05-23T00:42:11.749367",
     "status": "completed"
    },
    "tags": []
   },
   "outputs": [],
   "source": [
    "## Fonctions utiles pour la prédiction\n",
    "\n",
    "# inverser la normalisation sur le rating\n",
    "descale <- function(r){\n",
    "    return(r*rating_sd + rating_mean)\n",
    "}\n",
    "\n",
    "# obtenir la valeur i du test set (vraie valeur du rating)\n",
    "get_real <- function(i){\n",
    "  return(descale(k_get_value(y_test[i])))\n",
    "  \n",
    "}\n",
    "\n",
    "# obtenir la valeur prédite par le modèle pour l'input i du test set\n",
    "get_pred <- function(i){\n",
    "  test <- k_reshape(x_test[i,], c(1,6))\n",
    "  return(descale(predict(model, x=test)[1,]))\n",
    "}"
   ]
  },
  {
   "cell_type": "markdown",
   "id": "surface-civilian",
   "metadata": {
    "papermill": {
     "duration": 0.027312,
     "end_time": "2021-05-23T00:42:11.851697",
     "exception": false,
     "start_time": "2021-05-23T00:42:11.824385",
     "status": "completed"
    },
    "tags": []
   },
   "source": [
    "Pour se donner une idée des performances de notre modèle plus précise que \"loss=0.75\", on teste notre modèle sur des valeurs du test set."
   ]
  },
  {
   "cell_type": "code",
   "execution_count": 19,
   "id": "taken-issue",
   "metadata": {
    "execution": {
     "iopub.execute_input": "2021-05-23T00:42:11.911778Z",
     "iopub.status.busy": "2021-05-23T00:42:11.910540Z",
     "iopub.status.idle": "2021-05-23T00:42:11.934350Z",
     "shell.execute_reply": "2021-05-23T00:42:11.932904Z"
    },
    "papermill": {
     "duration": 0.055378,
     "end_time": "2021-05-23T00:42:11.934508",
     "exception": false,
     "start_time": "2021-05-23T00:42:11.879130",
     "status": "completed"
    },
    "tags": []
   },
   "outputs": [
    {
     "data": {
      "text/html": [
       "2.4999999792505"
      ],
      "text/latex": [
       "2.4999999792505"
      ],
      "text/markdown": [
       "2.4999999792505"
      ],
      "text/plain": [
       "[1] 2.5"
      ]
     },
     "metadata": {},
     "output_type": "display_data"
    }
   ],
   "source": [
    "# Comparons pour un i au hasard\n",
    "# Vraie valeur\n",
    "get_real(15)"
   ]
  },
  {
   "cell_type": "code",
   "execution_count": 20,
   "id": "forced-texas",
   "metadata": {
    "execution": {
     "iopub.execute_input": "2021-05-23T00:42:11.999086Z",
     "iopub.status.busy": "2021-05-23T00:42:11.997661Z",
     "iopub.status.idle": "2021-05-23T00:42:12.163011Z",
     "shell.execute_reply": "2021-05-23T00:42:12.161383Z"
    },
    "papermill": {
     "duration": 0.199604,
     "end_time": "2021-05-23T00:42:12.163170",
     "exception": false,
     "start_time": "2021-05-23T00:42:11.963566",
     "status": "completed"
    },
    "tags": []
   },
   "outputs": [
    {
     "data": {
      "text/html": [
       "3.23444723620407"
      ],
      "text/latex": [
       "3.23444723620407"
      ],
      "text/markdown": [
       "3.23444723620407"
      ],
      "text/plain": [
       "[1] 3.234447"
      ]
     },
     "metadata": {},
     "output_type": "display_data"
    }
   ],
   "source": [
    "# Valeur prédite\n",
    "get_pred(15)"
   ]
  },
  {
   "cell_type": "code",
   "execution_count": 21,
   "id": "other-shield",
   "metadata": {
    "execution": {
     "iopub.execute_input": "2021-05-23T00:42:12.227336Z",
     "iopub.status.busy": "2021-05-23T00:42:12.226147Z",
     "iopub.status.idle": "2021-05-23T00:42:13.741934Z",
     "shell.execute_reply": "2021-05-23T00:42:13.740897Z"
    },
    "papermill": {
     "duration": 1.54911,
     "end_time": "2021-05-23T00:42:13.742113",
     "exception": false,
     "start_time": "2021-05-23T00:42:12.193003",
     "status": "completed"
    },
    "tags": []
   },
   "outputs": [
    {
     "data": {
      "image/png": "[encoded data removed]"
     },
     "metadata": {
      "image/png": {
       "height": 420,
       "width": 420
      }
     },
     "output_type": "display_data"
    }
   ],
   "source": [
    "x <- 10:30\n",
    "plot(x, map(x, get_real), col=\"black\", ylab = \"Rating\", xlab = \"Echantillon\", pch=21)\n",
    "points(x, map(x, get_pred), col=\"red\", pch=21)\n",
    "legend(x=10, y=4, legend = c(\"True\", \"Predicted\"), pch=c(21, 21), col = c(\"black\", \"red\"), bty=\"n\")"
   ]
  },
  {
   "cell_type": "markdown",
   "id": "painful-survey",
   "metadata": {
    "papermill": {
     "duration": 0.029022,
     "end_time": "2021-05-23T00:42:13.802471",
     "exception": false,
     "start_time": "2021-05-23T00:42:13.773449",
     "status": "completed"
    },
    "tags": []
   },
   "source": [
    "On observe que notre réseau ne peut pas remplir le business goal: les prédictions sont trop erronées, et ce de façon quasiment aléatoire, pour qu'une entreprise puisse se reposer dessus. "
   ]
  },
  {
   "cell_type": "markdown",
   "id": "solved-knitting",
   "metadata": {
    "papermill": {
     "duration": 0.029047,
     "end_time": "2021-05-23T00:42:13.860405",
     "exception": false,
     "start_time": "2021-05-23T00:42:13.831358",
     "status": "completed"
    },
    "tags": []
   },
   "source": [
    "## 3. Le problème de la Tokenization\n",
    "\n",
    "Cette barrière en termes de performance du modèle, qui se retrouve même si l'on entraîne un modèle plus large, ou plus profond, ou pendant plus longtemps, vient du fait que notre tokenization naïve perd totalement les proximités sémantiques de nos valeurs textuelles (4 des 6 features utilisées). "
   ]
  },
  {
   "cell_type": "code",
   "execution_count": 22,
   "id": "actual-canada",
   "metadata": {
    "execution": {
     "iopub.execute_input": "2021-05-23T00:42:13.925016Z",
     "iopub.status.busy": "2021-05-23T00:42:13.923275Z",
     "iopub.status.idle": "2021-05-23T00:42:13.949692Z",
     "shell.execute_reply": "2021-05-23T00:42:13.948354Z"
    },
    "papermill": {
     "duration": 0.059967,
     "end_time": "2021-05-23T00:42:13.949826",
     "exception": false,
     "start_time": "2021-05-23T00:42:13.889859",
     "status": "completed"
    },
    "tags": []
   },
   "outputs": [
    {
     "name": "stdout",
     "output_type": "stream",
     "text": [
      "France: 2 \n",
      "USA: 1 \n",
      "Amsterdam: 35"
     ]
    }
   ],
   "source": [
    "# La france est plus proche des USA que d'Amsterdam\n",
    "cat(\"France:\", unlist(texts_to_sequences(tok_CompanyLoc, \"France\")), \"\\n\")\n",
    "cat(\"USA:\", unlist(texts_to_sequences(tok_CompanyLoc, \"U.S.A.\")), \"\\n\")\n",
    "cat(\"Amsterdam:\", unlist(texts_to_sequences(tok_CompanyLoc, \"Amsterdam\")))"
   ]
  },
  {
   "cell_type": "markdown",
   "id": "perceived-impossible",
   "metadata": {
    "papermill": {
     "duration": 0.030429,
     "end_time": "2021-05-23T00:42:14.012704",
     "exception": false,
     "start_time": "2021-05-23T00:42:13.982275",
     "status": "completed"
    },
    "tags": []
   },
   "source": [
    "On voit par exemple que l'information géographique est perdue par la tokenization. Et encore, il s'agissait là d'une feature volontairement choisie à des fins d'examples, mais il est en général beaucoup plus difficile d'imaginer ce que serait une \"bonne\" tokenization.\n",
    "\n",
    "Pour les companies par exemple, quand devraient deux companies être tokenizées en entiers proches? Quand leur taille est similaire? Leur chiffre d'affaire? Leur 'identité de marque', en imaginant que l'on puisse quantifier une telle donnée. Si un humain pourrait dire que les companies Lindt et Cote D'or sont 'proches' car similaires, c'est là une tâche bien plus compliquée (pour un humain comme pour une intelligence artificielle) à résoudre dans le cas général, sur des centaines de marques.\n",
    "\n",
    "Régler le problème de la tokenization est bien au-delà des perspectives de ce projet. La tokenization intelligente ou la word vectorization est un sujet actuel de recherche en Natural Language Processing, et des deep neural networks sont même entraînés spécifiquement pour créer efficacement des embeddings textuels."
   ]
  },
  {
   "cell_type": "markdown",
   "id": "younger-thomson",
   "metadata": {
    "papermill": {
     "duration": 0.029578,
     "end_time": "2021-05-23T00:42:14.072342",
     "exception": false,
     "start_time": "2021-05-23T00:42:14.042764",
     "status": "completed"
    },
    "tags": []
   },
   "source": [
    "# Conclusion\n",
    "\n",
    "**Le dataset Chocolate Bar Ratings ne se prête pas aisément à la prédiction d'un rating d'une barre à partir des autres features. Comme vu dans la première delivery, les quelques features numériques sont très peu corrélées entre elles. Quant aux features textuelles, leur utilisation dans une tâche de régression se heurte au défi complexe de l'embedding.**\n",
    "\n",
    "**Malgré ces impasses, ce projet nous a beaucoup appris sur les réseaux de neuronnes, les différents paramètres sur lesquels jouer (optimiseurs, fonctions loss, largeur, profondeur, fonctions d'activation...), et l'importance de l'embedding dans le traitement des mots.**"
   ]
  },
  {
   "cell_type": "markdown",
   "id": "continuing-custody",
   "metadata": {
    "papermill": {
     "duration": 0.032915,
     "end_time": "2021-05-23T00:42:14.138339",
     "exception": false,
     "start_time": "2021-05-23T00:42:14.105424",
     "status": "completed"
    },
    "tags": []
   },
   "source": [
    "## Annexe\n",
    "### Classification\n",
    "Nous avons essayé de passer d'une tâche de régression à une tâche de classification. L'idée étant que, au prix de la précision décimale sur le rating exact, nous pourrions simplifier la tâche au réseau de neurones. On arrondit donc les ratings à l'entier le plus proche. \n",
    "\n",
    "Ce changement nous a aussi permis d'utiliser la Cross Entropy en tant que loss function, et adam comme optimizer. \n",
    "\n",
    "Les changements dans le code déjà vu ci-dessus sont minimaux (5 neurones au lieu d'1 dans la dernière couche du réseau, changement des paramètres de la méthode compile()...). Le point de comparaison intéressant est **la phase de test**."
   ]
  },
  {
   "cell_type": "code",
   "execution_count": 23,
   "id": "reliable-function",
   "metadata": {
    "execution": {
     "iopub.execute_input": "2021-05-23T00:42:14.206163Z",
     "iopub.status.busy": "2021-05-23T00:42:14.204267Z",
     "iopub.status.idle": "2021-05-23T00:42:20.176079Z",
     "shell.execute_reply": "2021-05-23T00:42:20.174907Z"
    },
    "jupyter": {
     "source_hidden": true
    },
    "papermill": {
     "duration": 6.006479,
     "end_time": "2021-05-23T00:42:20.176252",
     "exception": false,
     "start_time": "2021-05-23T00:42:14.169773",
     "status": "completed"
    },
    "tags": []
   },
   "outputs": [
    {
     "name": "stderr",
     "output_type": "stream",
     "text": [
      "\n",
      "\u001b[36m──\u001b[39m \u001b[1m\u001b[1mColumn specification\u001b[1m\u001b[22m \u001b[36m────────────────────────────────────────────────────────\u001b[39m\n",
      "cols(\n",
      "  Cocoa.Percent = \u001b[32mcol_double()\u001b[39m\n",
      ")\n",
      "\n",
      "\n"
     ]
    }
   ],
   "source": [
    "chocodata <- read.csv(data_file_path)\n",
    "\n",
    "names(chocodata) <- make.names(names(chocodata), unique=TRUE)\n",
    "\n",
    "chocodata$Cocoa.Percent <- sapply(chocodata$Cocoa.Percent, function(x) gsub(\"%\", \"\", x))\n",
    "\n",
    "chocodata <- type_convert(chocodata)\n",
    "\n",
    "chocodata <- subset(chocodata, select = -Bean.Type)\n",
    "\n",
    "\n",
    "chocodata$Company...Maker.if.known. <- make.names(chocodata$Company...Maker.if.known.)\n",
    "chocodata$Specific.Bean.Origin.or.Bar.Name <- make.names(chocodata$Specific.Bean.Origin.or.Bar.Name)\n",
    "chocodata$Company.Location <- make.names(chocodata$Company.Location)\n",
    "chocodata$Broad.Bean.Origin <- make.names(chocodata$Broad.Bean.Origin)\n",
    "\n",
    "set.seed(622)\n",
    "shuffled_rows_indices <- sample(nrow(chocodata))\n",
    "chocodata <- chocodata[shuffled_rows_indices, ]\n",
    "\n",
    "tok_Company <- text_tokenizer(lower=FALSE, filter=\"\")\n",
    "tok_BeanOrig <- text_tokenizer(lower=FALSE, filter=\"\")\n",
    "tok_CompanyLoc <- text_tokenizer(lower=FALSE, filter=\"\")\n",
    "tok_BroadBean <- text_tokenizer(lower=FALSE, filter=\"\")\n",
    "\n",
    "fit_text_tokenizer(tok_Company, chocodata$Company...Maker.if.known.)\n",
    "fit_text_tokenizer(tok_BeanOrig, chocodata$Specific.Bean.Origin.or.Bar.Name)\n",
    "fit_text_tokenizer(tok_CompanyLoc, chocodata$Company.Location)\n",
    "fit_text_tokenizer(tok_BroadBean, chocodata$Broad.Bean.Origin)\n",
    "\n",
    "chocodata$Company...Maker.if.known. <- texts_to_sequences(tok_Company, chocodata$Company...Maker.if.known.)\n",
    "chocodata$Specific.Bean.Origin.or.Bar.Name <- texts_to_sequences(tok_BeanOrig, chocodata$Specific.Bean.Origin.or.Bar.Name)\n",
    "chocodata$Company.Location <- texts_to_sequences(tok_CompanyLoc, chocodata$Company.Location)\n",
    "chocodata$Broad.Bean.Origin <- texts_to_sequences(tok_BroadBean, chocodata$Broad.Bean.Origin)\n",
    "\n",
    "chocodata$Company...Maker.if.known. <- unlist(chocodata$Company...Maker.if.known.)\n",
    "chocodata$Specific.Bean.Origin.or.Bar.Name <- unlist(chocodata$Specific.Bean.Origin.or.Bar.Name)\n",
    "chocodata$Company.Location <- unlist(chocodata$Company.Location)\n",
    "chocodata$Broad.Bean.Origin <- unlist(chocodata$Broad.Bean.Origin)\n",
    "\n",
    "### Différence ###\n",
    "# On arrondit les ratings\n",
    "to_class <- function(r) {\n",
    "  return(round(r) - 1) # -1 parce que les indices commencent à 0 dans keras (donc classe 0 = Rating 1)\n",
    "}\n",
    "\n",
    "chocodata$Rating <- unlist(map(chocodata$Rating, to_class))\n",
    "\n",
    "### Différence ###\n",
    "# On ne scale pas le rating (puisqu'on veut le garder en tant qu'indice de classe)\n",
    "for (feat in names(chocodata)) {\n",
    "  if (feat != \"Rating\") {\n",
    "    chocodata[[feat]] <- c(scale(chocodata[[feat]]))\n",
    "  }\n",
    "}\n",
    "\n",
    "\n",
    "\n",
    "\n",
    "# Partie NN\n",
    "\n",
    "X = chocodata[ , c(\"Company...Maker.if.known.\", \n",
    "                   \"Specific.Bean.Origin.or.Bar.Name\", \n",
    "                   \"Review.Date\", \n",
    "                   \"Cocoa.Percent\", \n",
    "                   \"Company.Location\", \n",
    "                   \"Broad.Bean.Origin\")]\n",
    "Y = chocodata[ , c(\"Rating\")]\n",
    "\n",
    "\n",
    "splitter <- sample(c(rep(0, 0.8 * nrow(chocodata)), rep(1, 0.2 * nrow(chocodata))))\n",
    "x_train <- X[splitter == 0, ]   \n",
    "x_test <- X[splitter == 1, ]\n",
    "y_train <- Y[splitter ==0]\n",
    "y_test <- Y[splitter ==1]\n",
    "\n",
    "\n",
    "x_traine <- tf$convert_to_tensor(x_train)\n",
    "y_traine <- tf$convert_to_tensor(y_train)\n",
    "x_teste <- tf$convert_to_tensor(x_test)\n",
    "y_teste <- tf$convert_to_tensor(y_test)\n",
    "\n",
    "### Différence ###\n",
    "# L'output layer a 5 neurones, un pour chaque classe\n",
    "# Activation softmax pour obtenir des 'probabilités' d'appartenance\n",
    "model <- keras_model_sequential()\n",
    "model %>%\n",
    "  layer_dense(units = 6, activation=\"relu\", input_shape = c(NULL,6)) %>%\n",
    "  layer_dense(units = 10, activation = 'relu') %>%\n",
    "  layer_dense(units = 20, activation = 'relu') %>%\n",
    "  layer_dense(units = 10, activation = 'relu') %>%\n",
    "  layer_dense(units = 5, activation = 'relu') %>%\n",
    "  layer_dense(units = 5, activation = \"softmax\")\n",
    "\n",
    "\n",
    "### Différence ###\n",
    "# Paramètres classiques pour une classification\n",
    "model %>% compile(\n",
    "  optimizer = \"adam\", \n",
    "  loss = loss_sparse_categorical_crossentropy\n",
    ")\n",
    "\n",
    "### Différence ###\n",
    "# La patience est bien plus courte, car le training est très rapide\n",
    " early_stop = callback_early_stopping(patience=10, \n",
    "                                      monitor = \"val_loss\", \n",
    "                                      mode = \"min\", \n",
    "                                      verbose = 1,\n",
    "                                      restore_best_weights = TRUE)\n",
    "\n",
    "history <- fit(model, \n",
    "               x_traine, \n",
    "               y_traine, \n",
    "               epochs = 100, \n",
    "               verbose = 2, \n",
    "               validation_data = c(x_teste, y_teste),\n",
    "               callbacks = early_stop\n",
    ")\n",
    "\n",
    "### Différence ###\n",
    "# Classe 0 = Rating 1,..., Classe 4 = Rating 5\n",
    "get_real <- function(i){\n",
    "  return(k_get_value(y_teste[i]) + 1)\n",
    "}\n",
    "\n",
    "### Différence ###\n",
    "# argmax(predictions) donne la classe (pas besoin de +1 car les indices de R commencent bien à 1)\n",
    "get_pred <- function(i){\n",
    "  test <- k_reshape(x_teste[i,], c(1,6))\n",
    "  pred <- (predict(model, x=test)[1,])\n",
    "  return(which(pred == max(pred)))   \n",
    "}"
   ]
  },
  {
   "cell_type": "code",
   "execution_count": 24,
   "id": "legitimate-climb",
   "metadata": {
    "execution": {
     "iopub.execute_input": "2021-05-23T00:42:20.244417Z",
     "iopub.status.busy": "2021-05-23T00:42:20.242526Z",
     "iopub.status.idle": "2021-05-23T00:42:22.743189Z",
     "shell.execute_reply": "2021-05-23T00:42:22.742146Z"
    },
    "papermill": {
     "duration": 2.535519,
     "end_time": "2021-05-23T00:42:22.743540",
     "exception": false,
     "start_time": "2021-05-23T00:42:20.208021",
     "status": "completed"
    },
    "tags": []
   },
   "outputs": [
    {
     "data": {
      "image/png": "[encoded data removed]"
     },
     "metadata": {
      "image/png": {
       "height": 420,
       "width": 420
      }
     },
     "output_type": "display_data"
    }
   ],
   "source": [
    "x <- 10:50\n",
    "plot(x, map(x, get_real), col=\"black\", ylab = \"Rating\", xlab = \"Echantillon\", pch=1)\n",
    "points(x, map(x, get_pred), col=\"red\", pch=3)\n",
    "legend(\"bottomleft\", legend = c(\"True\", \"Predicted\"), pch=c(1, 3), col = c(\"black\", \"red\"), bty=\"o\")"
   ]
  },
  {
   "cell_type": "markdown",
   "id": "concrete-provincial",
   "metadata": {
    "papermill": {
     "duration": 0.03137,
     "end_time": "2021-05-23T00:42:22.806394",
     "exception": false,
     "start_time": "2021-05-23T00:42:22.775024",
     "status": "completed"
    },
    "tags": []
   },
   "source": [
    "On obtient des résultats qui peuvent sembler satisfaisants, mais la proportion de prédictions correctes n'est que de 57%. Le réseau prédit très souvent des 3, ce qui n'est pas surprenant: "
   ]
  },
  {
   "cell_type": "code",
   "execution_count": 25,
   "id": "continuous-cruise",
   "metadata": {
    "execution": {
     "iopub.execute_input": "2021-05-23T00:42:22.873829Z",
     "iopub.status.busy": "2021-05-23T00:42:22.872726Z",
     "iopub.status.idle": "2021-05-23T00:42:22.900003Z",
     "shell.execute_reply": "2021-05-23T00:42:22.897698Z"
    },
    "papermill": {
     "duration": 0.062732,
     "end_time": "2021-05-23T00:42:22.900176",
     "exception": false,
     "start_time": "2021-05-23T00:42:22.837444",
     "status": "completed"
    },
    "tags": []
   },
   "outputs": [
    {
     "name": "stdout",
     "output_type": "stream",
     "text": [
      "Nombre de données :  1795 \n",
      "Ratings 3 :  903 \n"
     ]
    }
   ],
   "source": [
    "cat(\"Nombre de données : \", length(chocodata$Rating), \"\\n\")\n",
    "cat(\"Ratings 3 : \", length(which(chocodata$Rating == 2)), \"\\n\") # Classe 2 = Rating 3"
   ]
  },
  {
   "cell_type": "markdown",
   "id": "thousand-meaning",
   "metadata": {
    "papermill": {
     "duration": 0.032087,
     "end_time": "2021-05-23T00:42:22.965995",
     "exception": false,
     "start_time": "2021-05-23T00:42:22.933908",
     "status": "completed"
    },
    "tags": []
   },
   "source": [
    "903 des 1795 données (50.3%) ont un rating arrondi à 3. C'est en partie en réponse à ce problème que l'on a exploré rapidement l'approche suivante."
   ]
  },
  {
   "cell_type": "markdown",
   "id": "twelve-invite",
   "metadata": {
    "papermill": {
     "duration": 0.0331,
     "end_time": "2021-05-23T00:42:23.031278",
     "exception": false,
     "start_time": "2021-05-23T00:42:22.998178",
     "status": "completed"
    },
    "tags": []
   },
   "source": [
    "### Equalization\n",
    "\n",
    "Comme nous l'avions relevé dans la première delivery de ce projet, les ratings ne sont pas également répartis entre 1 et 5. Comme cela peut pousser les modèles à ne jamais prédire très loin d'environ 3, nous avons cherché une façon d'\"étaler\" les ratings avant l'entraînement., et de faire la transformation inverse après une prédiction. \n",
    "\n",
    "Nous avons testé la technique de l'[histogram equalization](https://en.wikipedia.org/wiki/Histogram_equalization). A des fins de clareté et de brièveté, nous ne rentrerons pas dans les détails de cette dernière, car elle n'a pas donné de résultats positifs.\n",
    "\n",
    "La version du code avec cette equalization implémentée se trouve ci-dessous. Une fois de plus, le corps du code ne change quasiment pas, et la phase de test est la partie la plus parlante."
   ]
  },
  {
   "cell_type": "code",
   "execution_count": 26,
   "id": "european-trial",
   "metadata": {
    "execution": {
     "iopub.execute_input": "2021-05-23T00:42:23.104356Z",
     "iopub.status.busy": "2021-05-23T00:42:23.102507Z",
     "iopub.status.idle": "2021-05-23T00:42:23.302347Z",
     "shell.execute_reply": "2021-05-23T00:42:23.301023Z"
    },
    "jupyter": {
     "source_hidden": true
    },
    "papermill": {
     "duration": 0.238334,
     "end_time": "2021-05-23T00:42:23.302522",
     "exception": false,
     "start_time": "2021-05-23T00:42:23.064188",
     "status": "completed"
    },
    "tags": []
   },
   "outputs": [
    {
     "name": "stderr",
     "output_type": "stream",
     "text": [
      "\n",
      "\u001b[36m──\u001b[39m \u001b[1m\u001b[1mColumn specification\u001b[1m\u001b[22m \u001b[36m────────────────────────────────────────────────────────\u001b[39m\n",
      "cols(\n",
      "  Cocoa.Percent = \u001b[32mcol_double()\u001b[39m\n",
      ")\n",
      "\n",
      "\n"
     ]
    }
   ],
   "source": [
    "chocodata <- read.csv(data_file_path)\n",
    "\n",
    "names(chocodata) <- make.names(names(chocodata), unique=TRUE)\n",
    "\n",
    "chocodata$Cocoa.Percent <- sapply(chocodata$Cocoa.Percent, function(x) gsub(\"%\", \"\", x))\n",
    "\n",
    "chocodata <- type_convert(chocodata)\n",
    "\n",
    "chocodata <- subset(chocodata, select = -Bean.Type)\n",
    "\n",
    "\n",
    "chocodata$Company...Maker.if.known. <- make.names(chocodata$Company...Maker.if.known.)\n",
    "chocodata$Specific.Bean.Origin.or.Bar.Name <- make.names(chocodata$Specific.Bean.Origin.or.Bar.Name)\n",
    "chocodata$Company.Location <- make.names(chocodata$Company.Location)\n",
    "chocodata$Broad.Bean.Origin <- make.names(chocodata$Broad.Bean.Origin)\n",
    "\n",
    "set.seed(622)\n",
    "shuffled_rows_indices <- sample(nrow(chocodata))\n",
    "chocodata <- chocodata[shuffled_rows_indices, ]\n",
    "\n",
    "tok_Company <- text_tokenizer(lower=FALSE, filter=\"\")\n",
    "tok_BeanOrig <- text_tokenizer(lower=FALSE, filter=\"\")\n",
    "tok_CompanyLoc <- text_tokenizer(lower=FALSE, filter=\"\")\n",
    "tok_BroadBean <- text_tokenizer(lower=FALSE, filter=\"\")\n",
    "\n",
    "fit_text_tokenizer(tok_Company, chocodata$Company...Maker.if.known.)\n",
    "fit_text_tokenizer(tok_BeanOrig, chocodata$Specific.Bean.Origin.or.Bar.Name)\n",
    "fit_text_tokenizer(tok_CompanyLoc, chocodata$Company.Location)\n",
    "fit_text_tokenizer(tok_BroadBean, chocodata$Broad.Bean.Origin)\n",
    "\n",
    "chocodata$Company...Maker.if.known. <- texts_to_sequences(tok_Company, chocodata$Company...Maker.if.known.)\n",
    "chocodata$Specific.Bean.Origin.or.Bar.Name <- texts_to_sequences(tok_BeanOrig, chocodata$Specific.Bean.Origin.or.Bar.Name)\n",
    "chocodata$Company.Location <- texts_to_sequences(tok_CompanyLoc, chocodata$Company.Location)\n",
    "chocodata$Broad.Bean.Origin <- texts_to_sequences(tok_BroadBean, chocodata$Broad.Bean.Origin)\n",
    "\n",
    "chocodata$Company...Maker.if.known. <- unlist(chocodata$Company...Maker.if.known.)\n",
    "chocodata$Specific.Bean.Origin.or.Bar.Name <- unlist(chocodata$Specific.Bean.Origin.or.Bar.Name)\n",
    "chocodata$Company.Location <- unlist(chocodata$Company.Location)\n",
    "chocodata$Broad.Bean.Origin <- unlist(chocodata$Broad.Bean.Origin)"
   ]
  },
  {
   "cell_type": "code",
   "execution_count": 27,
   "id": "capable-incentive",
   "metadata": {
    "execution": {
     "iopub.execute_input": "2021-05-23T00:42:23.373149Z",
     "iopub.status.busy": "2021-05-23T00:42:23.371527Z",
     "iopub.status.idle": "2021-05-23T00:42:23.441987Z",
     "shell.execute_reply": "2021-05-23T00:42:23.440583Z"
    },
    "papermill": {
     "duration": 0.107053,
     "end_time": "2021-05-23T00:42:23.442123",
     "exception": false,
     "start_time": "2021-05-23T00:42:23.335070",
     "status": "completed"
    },
    "tags": []
   },
   "outputs": [
    {
     "data": {
      "image/png": "[encoded data removed]"
     },
     "metadata": {
      "image/png": {
       "height": 420,
       "width": 420
      }
     },
     "output_type": "display_data"
    }
   ],
   "source": [
    "# Avant equalization\n",
    "hist(chocodata$Rating, breaks=5)"
   ]
  },
  {
   "cell_type": "code",
   "execution_count": 28,
   "id": "suitable-oriental",
   "metadata": {
    "execution": {
     "iopub.execute_input": "2021-05-23T00:42:23.513378Z",
     "iopub.status.busy": "2021-05-23T00:42:23.511679Z",
     "iopub.status.idle": "2021-05-23T00:42:23.579237Z",
     "shell.execute_reply": "2021-05-23T00:42:23.577951Z"
    },
    "papermill": {
     "duration": 0.104465,
     "end_time": "2021-05-23T00:42:23.579423",
     "exception": false,
     "start_time": "2021-05-23T00:42:23.474958",
     "status": "completed"
    },
    "tags": []
   },
   "outputs": [],
   "source": [
    "# Equalization, cf lien wikipedia\n",
    "\n",
    "true_ratings <- chocodata$Rating\n",
    "n = nrow(chocodata)\n",
    "rat_min <- min(true_ratings)\n",
    "rat_max <- max(true_ratings)\n",
    "\n",
    "equalize <- function(r){\n",
    "  y <- length(which(true_ratings >= r))/n # cummulative distrib, mapped to 0,1\n",
    "  return(y * (rat_max - rat_min) + rat_min) # mapping back to the original range\n",
    "}\n",
    "\n",
    "chocodata$Rating <- unlist(map(chocodata$Rating, equalize))"
   ]
  },
  {
   "cell_type": "code",
   "execution_count": 29,
   "id": "sound-immune",
   "metadata": {
    "execution": {
     "iopub.execute_input": "2021-05-23T00:42:23.651993Z",
     "iopub.status.busy": "2021-05-23T00:42:23.650704Z",
     "iopub.status.idle": "2021-05-23T00:42:23.714836Z",
     "shell.execute_reply": "2021-05-23T00:42:23.713687Z"
    },
    "papermill": {
     "duration": 0.102036,
     "end_time": "2021-05-23T00:42:23.714979",
     "exception": false,
     "start_time": "2021-05-23T00:42:23.612943",
     "status": "completed"
    },
    "tags": []
   },
   "outputs": [
    {
     "data": {
      "image/png": "[encoded data removed]"
     },
     "metadata": {
      "image/png": {
       "height": 420,
       "width": 420
      }
     },
     "output_type": "display_data"
    }
   ],
   "source": [
    "# Après Equalization\n",
    "hist(chocodata$Rating, breaks=5)"
   ]
  },
  {
   "cell_type": "code",
   "execution_count": 30,
   "id": "subtle-globe",
   "metadata": {
    "execution": {
     "iopub.execute_input": "2021-05-23T00:42:23.790453Z",
     "iopub.status.busy": "2021-05-23T00:42:23.789004Z",
     "iopub.status.idle": "2021-05-23T00:42:32.610713Z",
     "shell.execute_reply": "2021-05-23T00:42:32.609098Z"
    },
    "jupyter": {
     "source_hidden": true
    },
    "papermill": {
     "duration": 8.860129,
     "end_time": "2021-05-23T00:42:32.610872",
     "exception": false,
     "start_time": "2021-05-23T00:42:23.750743",
     "status": "completed"
    },
    "tags": []
   },
   "outputs": [],
   "source": [
    "for (feat in names(chocodata)) {\n",
    "    chocodata[[feat]] <- c(scale(chocodata[[feat]]))\n",
    "}\n",
    "\n",
    "\n",
    "\n",
    "\n",
    "# Partie NN\n",
    "\n",
    "X = chocodata[ , c(\"Company...Maker.if.known.\", \n",
    "                   \"Specific.Bean.Origin.or.Bar.Name\", \n",
    "                   \"Review.Date\", \n",
    "                   \"Cocoa.Percent\", \n",
    "                   \"Company.Location\", \n",
    "                   \"Broad.Bean.Origin\")]\n",
    "Y = chocodata[ , c(\"Rating\")]\n",
    "\n",
    "\n",
    "splitter <- sample(c(rep(0, 0.8 * nrow(chocodata)), rep(1, 0.2 * nrow(chocodata))))\n",
    "x_train <- X[splitter == 0, ]   \n",
    "x_test <- X[splitter == 1, ]\n",
    "y_train <- Y[splitter ==0]\n",
    "y_test <- Y[splitter ==1]\n",
    "\n",
    "\n",
    "x_traine <- tf$convert_to_tensor(x_train)\n",
    "y_traine <- tf$convert_to_tensor(y_train)\n",
    "x_teste <- tf$convert_to_tensor(x_test)\n",
    "y_teste <- tf$convert_to_tensor(y_test)\n",
    "\n",
    "\n",
    "model <- keras_model_sequential()\n",
    "model %>%\n",
    "  layer_dense(units = 6, activation=\"relu\", input_shape = c(NULL,6)) %>%\n",
    "  layer_dense(units = 10, activation = 'relu') %>%\n",
    "  layer_dense(units = 20, activation = 'relu') %>%\n",
    "  layer_dense(units = 5, activation = 'relu') %>%\n",
    "  layer_dense(units = 1)\n",
    "\n",
    "\n",
    "model %>% compile(\n",
    "  optimizer = \"RMSprop\", \n",
    "  loss = \"mse\"\n",
    ")\n",
    "\n",
    "early_stop = callback_early_stopping(patience=60, \n",
    "                                     monitor = \"val_loss\", \n",
    "                                     mode = \"min\", \n",
    "                                     verbose = 1,\n",
    "                                     restore_best_weights = TRUE)\n",
    "\n",
    "history <- fit(model, \n",
    "               x_traine, \n",
    "               y_traine, \n",
    "               epochs = 300, \n",
    "               verbose = 2, \n",
    "               validation_data = c(x_teste, y_teste),\n",
    "               callbacks = early_stop\n",
    ")\n",
    "\n",
    "# obtenir la valeur i du test set (vraie valeur du rating)\n",
    "get_real <- function(i){\n",
    "  return(k_get_value(y_test[i]))\n",
    "  \n",
    "}\n",
    "\n",
    "# obtenir la valeur prédite par le modèle pour l'input i du test set\n",
    "get_pred <- function(i){\n",
    "  test <- k_reshape(x_test[i,], c(1,6))\n",
    "  return(predict(model, x=test)[1,])\n",
    "}"
   ]
  },
  {
   "cell_type": "code",
   "execution_count": 31,
   "id": "ready-thread",
   "metadata": {
    "execution": {
     "iopub.execute_input": "2021-05-23T00:42:32.684893Z",
     "iopub.status.busy": "2021-05-23T00:42:32.683741Z",
     "iopub.status.idle": "2021-05-23T00:42:32.705977Z",
     "shell.execute_reply": "2021-05-23T00:42:32.704590Z"
    },
    "jupyter": {
     "source_hidden": true
    },
    "papermill": {
     "duration": 0.060015,
     "end_time": "2021-05-23T00:42:32.706113",
     "exception": false,
     "start_time": "2021-05-23T00:42:32.646098",
     "status": "completed"
    },
    "tags": []
   },
   "outputs": [
    {
     "name": "stdout",
     "output_type": "stream",
     "text": [
      "Loss à la fin du training :  0.8103 \n",
      "Validation Loss à la fin du training :  0.8665"
     ]
    }
   ],
   "source": [
    "losses <- history$metrics$loss\n",
    "val_losses <- history$metrics$val_loss\n",
    "n_epochs = length(losses)\n",
    "cat(\"Loss à la fin du training : \", round(losses[n_epochs], 4), \"\\n\")\n",
    "cat(\"Validation Loss à la fin du training : \", round(val_losses[n_epochs], 4))"
   ]
  },
  {
   "cell_type": "code",
   "execution_count": 32,
   "id": "seven-advocacy",
   "metadata": {
    "execution": {
     "iopub.execute_input": "2021-05-23T00:42:32.780213Z",
     "iopub.status.busy": "2021-05-23T00:42:32.779009Z",
     "iopub.status.idle": "2021-05-23T00:42:35.110722Z",
     "shell.execute_reply": "2021-05-23T00:42:35.109286Z"
    },
    "papermill": {
     "duration": 2.369812,
     "end_time": "2021-05-23T00:42:35.110936",
     "exception": false,
     "start_time": "2021-05-23T00:42:32.741124",
     "status": "completed"
    },
    "tags": []
   },
   "outputs": [
    {
     "data": {
      "image/png": "[encoded data removed]"
     },
     "metadata": {
      "image/png": {
       "height": 420,
       "width": 420
      }
     },
     "output_type": "display_data"
    }
   ],
   "source": [
    "x <- 10:50\n",
    "plot(x, map(x, get_real), col=\"black\", ylab = \"Rating\", xlab = \"Echantillon\", pch=1)\n",
    "points(x, map(x, get_pred), col=\"red\", pch=3)\n",
    "legend(\"bottomleft\", legend = c(\"True\", \"Predicted\"), pch=c(1, 3), col = c(\"black\", \"red\"), bty=\"o\")"
   ]
  },
  {
   "cell_type": "markdown",
   "id": "destroyed-production",
   "metadata": {
    "papermill": {
     "duration": 0.037091,
     "end_time": "2021-05-23T00:42:35.185952",
     "exception": false,
     "start_time": "2021-05-23T00:42:35.148861",
     "status": "completed"
    },
    "tags": []
   },
   "source": [
    "On obtient des résultats moins bons que sans equalization. De plus, la transformation inverse n'est pas triviale à implémenter. On abandonne donc cette idée."
   ]
  }
 ],
 "metadata": {
  "kernelspec": {
   "display_name": "R",
   "language": "R",
   "name": "ir"
  },
  "language_info": {
   "codemirror_mode": "r",
   "file_extension": ".r",
   "mimetype": "text/x-r-source",
   "name": "R",
   "pygments_lexer": "r",
   "version": "3.6.3"
  },
  "papermill": {
   "default_parameters": {},
   "duration": 48.887012,
   "end_time": "2021-05-23T00:42:36.267236",
   "environment_variables": {},
   "exception": null,
   "input_path": "__notebook__.ipynb",
   "output_path": "__notebook__.ipynb",
   "parameters": {},
   "start_time": "2021-05-23T00:41:47.380224",
   "version": "2.3.3"
  }
 },
 "nbformat": 4,
 "nbformat_minor": 5
}
